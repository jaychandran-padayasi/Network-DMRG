{
 "cells": [
  {
   "cell_type": "markdown",
   "metadata": {},
   "source": [
    "## Exact diagonalization of superspin chain quantization of CC network model"
   ]
  },
  {
   "cell_type": "code",
   "execution_count": 11,
   "metadata": {},
   "outputs": [],
   "source": [
    "import numpy as np\n",
    "import matplotlib.pyplot as plt\n",
    "from scipy import sparse\n",
    "from sympy import Matrix"
   ]
  },
  {
   "cell_type": "markdown",
   "metadata": {},
   "source": [
    "M is the number of bosons in the truncation of bosonic Hilbert space, N is the number of spins in the chain"
   ]
  },
  {
   "cell_type": "code",
   "execution_count": 12,
   "metadata": {},
   "outputs": [],
   "source": [
    "M = 3\n",
    "N = 6"
   ]
  },
  {
   "cell_type": "markdown",
   "metadata": {},
   "source": [
    "Generate matrices that will define the local Hilbert space"
   ]
  },
  {
   "cell_type": "code",
   "execution_count": 13,
   "metadata": {},
   "outputs": [],
   "source": [
    "\n",
    "Diag1 = np.pad([np.sqrt(i) for i in range(1, M+1)], (0,M))\n",
    "Diag2 = np.pad([np.sqrt(i) for i in range(1, M)], (M+1,1))\n",
    "Diag3 = np.pad([np.sqrt(i) for i in range(1, M+1)], (M,0))\n",
    "Diag4 = np.pad([np.sqrt(i) for i in range(1, M)], (0,M))\n",
    "bR = np.diag(Diag1, k= -M) + np.diag(Diag2, k= 1-M)\n",
    "bdgR = np.transpose( bR)\n",
    "bA = np.diag(Diag3, k = M) + np.diag(Diag4, k = M+1)\n",
    "bdgA = np.transpose( bA)\n",
    "NbrR =  bdgR@ bR + np.diag(np.pad(range(M), (2*M, 0)))\n",
    "NbrA =  bdgA@ bA + np.diag(np.pad(range(M), (0, 2*M)))\n",
    "\n",
    "\n",
    "bR = np.kron( bR, np.eye(4))\n",
    "bdgR = np.kron( bdgR, np.eye(4))\n",
    "bA = np.kron( bA, np.eye(4))\n",
    "bdgA = np.kron(bdgA, np.eye(4))\n",
    "NbrR = np.kron(NbrR, np.eye(4))\n",
    "NbrA = np.kron(NbrA, np.eye(4))\n",
    "\n",
    "def FermMatrices(norm):\n",
    "    f = np.array([[0,1], [0,0]])\n",
    "    fdg = np.transpose(f)\n",
    "    fA = np.kron(f, np.eye(2))\n",
    "    fdgA = np.kron(fdg, norm*np.eye(2))\n",
    "    PauliZ = np.array([[1,0],[0,-1]])\n",
    "    fR = np.kron(PauliZ, f).astype(int)\n",
    "    fdgR = np.kron(norm*PauliZ, fdg).astype(int)\n",
    "    fR = np.kron(np.eye(3*M),  fR).astype(int)\n",
    "    fdgR = np.kron(np.eye(3*M),  fdgR).astype(int)\n",
    "    fA = np.kron(np.eye(3*M),  fA).astype(int)\n",
    "    fdgA = np.kron(np.eye(3*M),  fdgA).astype(int)\n",
    "    return fR, fdgR, fA, fdgA\n",
    "\n",
    "fR, fdgR, fA, fdgA = FermMatrices(+1)\n",
    "fbR, fbdgR, fbA, fbdgA = FermMatrices(-1)\n",
    "NfR = fdgR@fR\n",
    "NfA = fdgA@fA\n",
    "NfbR = -fbdgR@fbR\n",
    "NfbA = -fbdgA@fbA"
   ]
  },
  {
   "cell_type": "markdown",
   "metadata": {},
   "source": [
    "### Helper functions/code to visualize the action of operators on local Hilbert space\n",
    "   - <code>visualizeState(vector)</code> takes a $12M$ dimensional vector and yields the string that represents that state in human readable form\n",
    "   - <code>visualizeProjectedState(vector)</code> takes a $4M$ dimensional vector that has been projected into the SUSY subspace (with R particles = A particles) and returns the state in human readable form"
   ]
  },
  {
   "cell_type": "code",
   "execution_count": 14,
   "metadata": {},
   "outputs": [],
   "source": [
    "stateSpace = []\n",
    "fermionicStates = [\"|>\", \"|Rf>\", \"|Af>\", \"|AfRf>\"]\n",
    "\n",
    "for s in (-1,0,1):\n",
    "    for i in range(M):\n",
    "        for fState in fermionicStates:\n",
    "            fewer = \"A\" if s <= 0 else \"R\"\n",
    "            more = \"R\" if fewer==\"A\" else \"A\"\n",
    "            stateString = \"|\" + ''.join(sorted((i + np.abs(s))*more + i*fewer)) + \">\"\n",
    "            stateSpace.append(stateString + fState)\n",
    "\n",
    "def visualizeState(vector):\n",
    "    # Helper function to visualize state pre projection\n",
    "    if len(vector) != 12*M:\n",
    "        print(\"Incorrect dims\")\n",
    "        return\n",
    "    \n",
    "\n",
    "    resultStr = ''\n",
    "    for i in range(12*M):\n",
    "        if vector[i] != 0:\n",
    "            if vector[i] == 1:\n",
    "                resultStr += stateSpace[i] + \" + \"\n",
    "            else:\n",
    "                resultStr += str(vector[i]) + stateSpace[i] + \" + \"\n",
    "                \n",
    "    return \"0\" if resultStr == '' else resultStr[:-3]"
   ]
  },
  {
   "cell_type": "code",
   "execution_count": 15,
   "metadata": {},
   "outputs": [],
   "source": [
    "projector = []\n",
    "for index, element in enumerate(visualizeState(np.ones(12*M)).split(\" + \")):\n",
    "    row = np.zeros(12*M)\n",
    "    if element.count(\"R\") == element.count(\"A\"):\n",
    "        row[index] = 1\n",
    "    projector.append(row)\n",
    "projector = np.array(projector)\n",
    "projector = np.array(Matrix(projector).rref()[0])[:4*M].astype(int)\n"
   ]
  },
  {
   "cell_type": "code",
   "execution_count": 16,
   "metadata": {},
   "outputs": [],
   "source": [
    "projectedSpace = []\n",
    "for i in range(12*M):\n",
    "    tempState = np.zeros(12*M)\n",
    "    tempState[i] = 1\n",
    "    if np.any(projector@tempState):\n",
    "        projectedSpace.append(visualizeState(tempState))\n",
    "\n",
    "def visualizeProjectedState(vector):\n",
    "    resultStr = ''\n",
    "    for i in range(4*M):\n",
    "        if vector[i] != 0:\n",
    "            if vector[i] == 1:\n",
    "                resultStr += projectedSpace[i] + \" + \"\n",
    "            else:\n",
    "                resultStr += str(vector[i]) + projectedSpace[i] + \" + \"\n",
    "    return \"0\" if resultStr == '' else resultStr[:-3]"
   ]
  },
  {
   "cell_type": "markdown",
   "metadata": {},
   "source": [
    "### Functions to insert local operators into the total Hilbert space\n",
    " - <code>insertOperator(mat, siteIndex)</code> takes a non-SUSY projected matrix (necessarily bosonic) and inserts it at given site\n",
    " - <code>stringOperators(siteIndex)</code> returns a matrix with the string of fermionic operators $\\prod_{i = 0}^{j-1}(1 - 2n_{f_{A_i}})(1 - 2n_{f_{R_i}})$\n",
    " - <code>term(mat, siteIndex, fermionQ)</code> is a catch-all function that simply combines the jobs of both functions above. If <code>fermionQ != 0</code>, then we generate and insert the string operators along with the matrix itself "
   ]
  },
  {
   "cell_type": "code",
   "execution_count": 17,
   "metadata": {},
   "outputs": [],
   "source": [
    "\n",
    "def insertOperator(mat, siteIndex):\n",
    "    # Insert non-SUSY projected bosonic operator on to the site\n",
    "    if siteIndex > N-1:\n",
    "        return 'None'\n",
    "    localDim = 4*M\n",
    "    projectedMat = projector@mat@np.transpose(projector)\n",
    "    returnMat = projectedMat if siteIndex == 0 else sparse.identity(localDim)\n",
    "    for i in range(1,N):\n",
    "        currentMat = projectedMat if siteIndex == i else sparse.identity(localDim)\n",
    "        returnMat = sparse.kron(returnMat, currentMat)\n",
    "    return returnMat\n",
    "\n",
    "def stringOperators(siteIndex):\n",
    "    localDim = 12*M\n",
    "    if siteIndex == 0:\n",
    "        return sparse.identity((4*M)**N)\n",
    "    else:\n",
    "        returnMat = insertOperator((np.eye(localDim) - 2*NfR)@(np.eye(localDim) - 2*NfA), 0)\n",
    "        for i in range(1, siteIndex):\n",
    "            RfermCounter = NfR if siteIndex%2 == 0 else NfbR\n",
    "            AfermCounter = NfA if siteIndex%2 == 0 else NfbA\n",
    "            returnMat = returnMat@insertOperator((np.eye(localDim) - 2*AfermCounter)@(np.eye(localDim) - 2*RfermCounter), i)\n",
    "        return returnMat\n",
    "\n",
    "def term(mat, siteIndex, fermionQ):\n",
    "    if fermionQ == 0:\n",
    "        return insertOperator(mat, siteIndex)\n",
    "    else:\n",
    "        return stringOperators(siteIndex)@insertOperator(mat, siteIndex)"
   ]
  },
  {
   "cell_type": "markdown",
   "metadata": {},
   "source": [
    "## Construct the Hamiltonian matrix as per Ilya's notes, equation C.32"
   ]
  },
  {
   "cell_type": "code",
   "execution_count": 18,
   "metadata": {},
   "outputs": [
    {
     "name": "stdout",
     "output_type": "stream",
     "text": [
      "J:  0  Jbar:  1\n",
      "prefactor:  -1.01\n",
      "J:  2  Jbar:  1\n",
      "prefactor:  -0.99\n",
      "J:  2  Jbar:  3\n",
      "prefactor:  -1.01\n",
      "J:  4  Jbar:  3\n",
      "prefactor:  -0.99\n",
      "J:  4  Jbar:  5\n",
      "prefactor:  -1.01\n",
      "J:  0  Jbar:  5\n",
      "prefactor:  -0.99\n"
     ]
    }
   ],
   "source": [
    "eps = 0.01\n",
    "Hamiltonian = sparse.csr_matrix(((4*M)**N, (4*M)**N))\n",
    "\n",
    "for i in range(N):\n",
    "    if i == N-1:\n",
    "        regSite = 0\n",
    "        barSite = N-1\n",
    "        prefactor = -(1 - eps)\n",
    "    else:\n",
    "        regSite = i if i%2 == 0 else i+1\n",
    "        barSite = i+1 if i%2 ==0 else i\n",
    "        prefactor = -(1 + eps) if i%2 == 0 else -(1 - eps)\n",
    "    print('J: ', regSite, ' Jbar: ', barSite)\n",
    "    print('prefactor: ', prefactor)\n",
    "\n",
    "    \n",
    "    \n",
    "    Hamiltonian -= term(NbrR, regSite, 0)@term(NbrR, barSite, 0)\n",
    "    Hamiltonian -= term(fdgR@bR, regSite, 1)@term(fbdgR@bR, barSite, 1)\n",
    "    Hamiltonian += term(bR@bA, regSite, 0)@term(bR@bA, barSite, 0)\n",
    "    Hamiltonian -= term(bR@fA, regSite, 1)@term(bR@fbA, barSite, 1)\n",
    "    Hamiltonian += term(bdgR@fR, regSite, 1)@term(bdgR@fbR, barSite, 1)\n",
    "    Hamiltonian += term(NfR, regSite, 0)@term(NfbR, barSite, 0)\n",
    "    Hamiltonian -= term(fR@bA, regSite, 1)@term(fbR@bA, barSite, 1)\n",
    "    Hamiltonian += term(fR@fA, regSite, 0)@term(fbR@fbA, barSite, 0)\n",
    "    Hamiltonian += term(bdgR@bdgA, regSite, 0)@term(bdgR@bdgA, barSite, 0)\n",
    "    Hamiltonian += term(fdgR@bdgA, regSite, 1)@term(fbdgR@bdgA, barSite, 1)\n",
    "    Hamiltonian -= term(NbrA, regSite, 0)@term(NbrA, barSite, 0)\n",
    "    Hamiltonian += term(bdgA@fA, regSite, 1)@term(bdgA@fbA, barSite, 1)\n",
    "    Hamiltonian += term(bdgR@fdgA, regSite, 1)@term(bdgR@fbdgA, barSite, 1)\n",
    "    Hamiltonian += term(fdgR@fdgA, regSite, 0)@term(fbdgR@fbdgA, barSite, 0)\n",
    "    Hamiltonian -= term(fdgA@bA, regSite, 1)@term(fbdgA@bA, barSite, 1)\n",
    "    Hamiltonian += term(NfA, regSite, 0)@term(NfbA, barSite, 0)\n",
    "    Hamiltonian -= term(0.5*NbrR, regSite, 0) + term(0.5*NbrA, regSite, 0) + term(0.5*NbrR, barSite, 0) + term(0.5*NbrA, barSite, 0)\n",
    "    Hamiltonian -= term(0.5*NfR, regSite, 0) + term(0.5*NfA, regSite, 0) + term(0.5*NfbR, barSite, 0) + term(0.5*NfbA, barSite, 0)\n",
    "    Hamiltonian *= prefactor\n",
    "    \n",
    "        "
   ]
  },
  {
   "cell_type": "code",
   "execution_count": 20,
   "metadata": {},
   "outputs": [
    {
     "name": "stdout",
     "output_type": "stream",
     "text": [
      "State:  |R>|Af> fb anti-commutator : -1.0|R>|Af>\n",
      "State:  |ARR>|Af> fb anti-commutator : -1.0|ARR>|Af>\n",
      "State:  |AARRR>|Af> fb anti-commutator : -1.0|AARRR>|Af>\n",
      "State:  |>|> fb anti-commutator : |>|>\n",
      "State:  |>|AfRf> fb anti-commutator : |>|AfRf>\n",
      "State:  |AR>|> fb anti-commutator : |AR>|>\n",
      "State:  |AR>|AfRf> fb anti-commutator : |AR>|AfRf>\n",
      "State:  |AARR>|> fb anti-commutator : |AARR>|>\n",
      "State:  |AARR>|AfRf> fb anti-commutator : |AARR>|AfRf>\n",
      "State:  |A>|Rf> fb anti-commutator : -1.0|A>|Rf>\n",
      "State:  |AAR>|Rf> fb anti-commutator : -1.0|AAR>|Rf>\n",
      "State:  |AAARR>|Rf> fb anti-commutator : -1.0|AAARR>|Rf>\n"
     ]
    }
   ],
   "source": [
    "# Check Projections\n",
    "for i in range(4*M):\n",
    "    tempState = np.zeros(4*M)\n",
    "    tempState[i] = 1\n",
    "    print(\"State: \", visualizeProjectedState(tempState), \"fb anti-commutator :\", visualizeProjectedState(projector@(np.eye(12*M)-2*fdgA@fA)@(np.eye(12*M)-2*fdgR@fR).astype(int)@np.transpose(projector)@tempState))\n",
    "\n"
   ]
  }
 ],
 "metadata": {
  "kernelspec": {
   "display_name": "base",
   "language": "python",
   "name": "python3"
  },
  "language_info": {
   "codemirror_mode": {
    "name": "ipython",
    "version": 3
   },
   "file_extension": ".py",
   "mimetype": "text/x-python",
   "name": "python",
   "nbconvert_exporter": "python",
   "pygments_lexer": "ipython3",
   "version": "3.10.9"
  }
 },
 "nbformat": 4,
 "nbformat_minor": 2
}
